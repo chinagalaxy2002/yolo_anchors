{
 "cells": [
  {
   "cell_type": "code",
   "execution_count": 3,
   "metadata": {},
   "outputs": [
    {
     "name": "stderr",
     "output_type": "stream",
     "text": [
      "/home/gxyu/anaconda3/envs/py38/lib/python3.8/site-packages/sklearn/cluster/_kmeans.py:1416: FutureWarning: The default value of `n_init` will change from 10 to 'auto' in 1.4. Set the value of `n_init` explicitly to suppress the warning\n",
      "  super()._check_params_vs_input(X, default_n_init=10)\n"
     ]
    },
    {
     "name": "stdout",
     "output_type": "stream",
     "text": [
      "New anchors: [[ 517.55357143  186.69642857]\n",
      " [  73.06532663  186.66331658]\n",
      " [ 270.02083333   94.21527778]\n",
      " [ 243.46153846  651.87179487]\n",
      " [1063.61111111  451.16666667]\n",
      " [ 164.95098039  371.76470588]\n",
      " [ 492.09090909 1285.09090909]\n",
      " [  84.41830065   40.02614379]\n",
      " [1922.33333333  555.66666667]]\n"
     ]
    }
   ],
   "source": [
    "import os\n",
    "import xml.etree.ElementTree as ET\n",
    "import numpy as np\n",
    "from sklearn.cluster import KMeans\n",
    "\n",
    "def parse_xml(xml_file):\n",
    "    tree = ET.parse(xml_file)\n",
    "    root = tree.getroot()\n",
    "    width = int(root.find('size/width').text)\n",
    "    height = int(root.find('size/height').text)\n",
    "    boxes = []\n",
    "    for obj in root.findall('object'):\n",
    "        xmin = int(obj.find('bndbox/xmin').text)\n",
    "        ymin = int(obj.find('bndbox/ymin').text)\n",
    "        xmax = int(obj.find('bndbox/xmax').text)\n",
    "        ymax = int(obj.find('bndbox/ymax').text)\n",
    "        box_width = xmax - xmin\n",
    "        box_height = ymax - ymin\n",
    "        boxes.append([box_width, box_height])\n",
    "    return boxes\n",
    "\n",
    "def load_dataset(xml_dir):\n",
    "    boxes = []\n",
    "    for xml_file in os.listdir(xml_dir):\n",
    "        if xml_file.endswith('.xml'):\n",
    "            boxes.extend(parse_xml(os.path.join(xml_dir, xml_file)))\n",
    "    return np.array(boxes)\n",
    "\n",
    "def calculate_anchors(boxes, n_clusters=9):\n",
    "    kmeans = KMeans(n_clusters=n_clusters)\n",
    "    kmeans.fit(boxes)\n",
    "    return kmeans.cluster_centers_\n",
    "\n",
    "if __name__ == \"__main__\":\n",
    "    xml_dir = \"/home/gxyu/yolov5-7.0/datasets/ankors/anchors_data\"  # 修改为你的 XML 文件路径\n",
    "    boxes = load_dataset(xml_dir)\n",
    "    anchors = calculate_anchors(boxes)\n",
    "    print(\"New anchors:\", anchors)\n"
   ]
  }
 ],
 "metadata": {
  "kernelspec": {
   "display_name": "py38",
   "language": "python",
   "name": "python3"
  },
  "language_info": {
   "codemirror_mode": {
    "name": "ipython",
    "version": 3
   },
   "file_extension": ".py",
   "mimetype": "text/x-python",
   "name": "python",
   "nbconvert_exporter": "python",
   "pygments_lexer": "ipython3",
   "version": "3.8.18"
  }
 },
 "nbformat": 4,
 "nbformat_minor": 2
}
